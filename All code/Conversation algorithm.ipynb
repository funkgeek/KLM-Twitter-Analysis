{
 "cells": [
  {
   "cell_type": "code",
   "execution_count": 1,
   "metadata": {},
   "outputs": [],
   "source": [
    "import pandas as pd\n",
    "import sqlite3 as sql\n",
    "import json\n",
    "import os\n",
    "import time\n",
    "import datetime\n",
    "import numpy as np\n",
    "import pickle\n",
    "import seaborn as sns\n",
    "import matplotlib.pyplot as plt\n",
    "\n",
    "conn = sql.connect('Tweets5.db')"
   ]
  },
  {
   "cell_type": "code",
   "execution_count": 58,
   "metadata": {},
   "outputs": [],
   "source": [
    "assframe = pd.read_sql_query('SELECT in_reply_to_status_id, created_at, id, text, user_id FROM tweets',conn)"
   ]
  },
  {
   "cell_type": "code",
   "execution_count": 4,
   "metadata": {},
   "outputs": [],
   "source": [
    "assframe['created_at'] = pd.to_datetime(assframe['created_at'])"
   ]
  },
  {
   "cell_type": "code",
   "execution_count": 62,
   "metadata": {},
   "outputs": [
    {
     "data": {
      "text/plain": [
       "3845544"
      ]
     },
     "execution_count": 62,
     "metadata": {},
     "output_type": "execute_result"
    }
   ],
   "source": [
    "assframe.shape[0]"
   ]
  },
  {
   "cell_type": "code",
   "execution_count": 11,
   "metadata": {},
   "outputs": [],
   "source": [
    "def get_time(tweet):\n",
    "    creatime = tweet['created_at']\n",
    "    time_change = datetime.timedelta(minutes=28)\n",
    "    endtime = creatime + time_change\n",
    "    return [creatime, endtime]\n",
    "\n",
    "def findtails(frame):\n",
    "    tails = []\n",
    "    possibleframe = frame[frame['in_reply_to_status_id'].notnull()]\n",
    "    possibleframe = possibleframe.sort_values('created_at',ascending=False)\n",
    "    for index, i in possibleframe.iterrows():\n",
    "        creatime = i['created_at']\n",
    "        time_change = datetime.timedelta(minutes=28)\n",
    "        endtime = creatime + time_change\n",
    "        replyframe = possibleframe[(possibleframe['created_at'] < endtime) & (possibleframe['created_at'] > creatime)]\n",
    "        if replyframe[replyframe['in_reply_to_status_id'] == i['id']].shape[0] == 0:\n",
    "            tails.append(i)\n",
    "    return pd.DataFrame(tails)"
   ]
  },
  {
   "cell_type": "code",
   "execution_count": 12,
   "metadata": {},
   "outputs": [],
   "source": [
    "def findparent(i,frame):\n",
    "    creatime = i['created_at']\n",
    "    time_change = datetime.timedelta(minutes=28)\n",
    "    endtime = creatime - time_change\n",
    "    timeframe = frame[(frame['created_at'] > endtime) & (frame['created_at'] < creatime)]\n",
    "    masked_frame = timeframe[timeframe['id'] == i['in_reply_to_status_id']]\n",
    "    if masked_frame.shape[0] != 0:\n",
    "        parent = masked_frame.reset_index().loc[0]\n",
    "        if parent['in_reply_to_status_id'] is None:\n",
    "            print('succes')\n",
    "        return parent\n",
    "    \n",
    "def getConvLoop(i,frame):\n",
    "    global conversations\n",
    "    top = (findparent(i[-1],frame))\n",
    "    if top is None:\n",
    "        return None\n",
    "    if pd.isnull(top['in_reply_to_status_id']):\n",
    "        conv = i\n",
    "        conv.append(top)\n",
    "        conversations.append(conv)\n",
    "    else:\n",
    "        conv = i\n",
    "        conv.append(top)\n",
    "        getConvLoop(conv,frame)\n",
    "\n",
    "def retrieveConv(convlist):\n",
    "    return pd.DataFrame(convlist).sort_values(by=['created_at'])"
   ]
  },
  {
   "cell_type": "code",
   "execution_count": 13,
   "metadata": {},
   "outputs": [],
   "source": [
    "def getconversations(frame):\n",
    "    global conversations\n",
    "    conversations = list()\n",
    "    iteration = 0\n",
    "    tails = findtails(frame)\n",
    "    for index, i in tails.iterrows():\n",
    "        attempt = getConvLoop([i],frame)\n",
    "        iteration += 1\n",
    "        if iteration%1000 == 0:\n",
    "            print(index)\n",
    "    returnthing = conversations\n",
    "    return conversations"
   ]
  },
  {
   "cell_type": "code",
   "execution_count": 14,
   "metadata": {},
   "outputs": [
    {
     "name": "stdout",
     "output_type": "stream",
     "text": [
      "6991\n",
      "4284\n",
      "881\n"
     ]
    }
   ],
   "source": [
    "asssframe = assframe\n",
    "massivelist = list()\n",
    "j = 0\n",
    "while (j + 25000) < asssframe.shape[0]:\n",
    "    s = j + 25000\n",
    "    pepe = (getconversations(asssframe[j:s]))\n",
    "    for i in pepe:\n",
    "        massivelist.append(i)\n",
    "    j = s\n",
    "pepe = (getconversations(asssframe[j:asssframe.shape[0]]))\n",
    "for i in pepe:\n",
    "    massivelist.append(i)"
   ]
  },
  {
   "cell_type": "code",
   "execution_count": 36,
   "metadata": {},
   "outputs": [],
   "source": [
    "def save_object(obj, filename):\n",
    "    with open(filename, 'wb') as output:  # Overwrites any existing file.\n",
    "        pickle.dump(obj, output, pickle.HIGHEST_PROTOCOL)\n",
    "save_object(massivelist,'conversations.pkl')"
   ]
  }
 ],
 "metadata": {
  "kernelspec": {
   "display_name": "Python 3 (ipykernel)",
   "language": "python",
   "name": "python3"
  },
  "language_info": {
   "codemirror_mode": {
    "name": "ipython",
    "version": 3
   },
   "file_extension": ".py",
   "mimetype": "text/x-python",
   "name": "python",
   "nbconvert_exporter": "python",
   "pygments_lexer": "ipython3",
   "version": "3.10.9"
  }
 },
 "nbformat": 4,
 "nbformat_minor": 4
}
