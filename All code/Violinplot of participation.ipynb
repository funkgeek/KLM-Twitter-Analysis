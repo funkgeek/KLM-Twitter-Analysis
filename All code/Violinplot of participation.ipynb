{
 "cells": [
  {
   "cell_type": "code",
   "execution_count": 161,
   "metadata": {},
   "outputs": [],
   "source": [
    "import pandas as pd\n",
    "from datetime import datetime\n",
    "import pickle\n",
    "import numpy as np\n",
    "import seaborn as sns\n",
    "import math\n",
    "import matplotlib.pyplot as plt"
   ]
  },
  {
   "cell_type": "code",
   "execution_count": 3,
   "metadata": {},
   "outputs": [],
   "source": [
    "with open('conversationframe.pkl', 'rb') as input:\n",
    "    conversationframe = pickle.load(input)"
   ]
  },
  {
   "cell_type": "code",
   "execution_count": 154,
   "metadata": {},
   "outputs": [
    {
     "data": {
      "text/html": [
       "<div>\n",
       "<style scoped>\n",
       "    .dataframe tbody tr th:only-of-type {\n",
       "        vertical-align: middle;\n",
       "    }\n",
       "\n",
       "    .dataframe tbody tr th {\n",
       "        vertical-align: top;\n",
       "    }\n",
       "\n",
       "    .dataframe thead th {\n",
       "        text-align: right;\n",
       "    }\n",
       "</style>\n",
       "<table border=\"1\" class=\"dataframe\">\n",
       "  <thead>\n",
       "    <tr style=\"text-align: right;\">\n",
       "      <th></th>\n",
       "      <th>conv</th>\n",
       "      <th>delta</th>\n",
       "      <th>mean</th>\n",
       "      <th>month</th>\n",
       "      <th>year</th>\n",
       "    </tr>\n",
       "    <tr>\n",
       "      <th>time</th>\n",
       "      <th></th>\n",
       "      <th></th>\n",
       "      <th></th>\n",
       "      <th></th>\n",
       "      <th></th>\n",
       "    </tr>\n",
       "  </thead>\n",
       "  <tbody>\n",
       "    <tr>\n",
       "      <th>2020-02-01 00:02:52+00:00</th>\n",
       "      <td>level_0  in_reply_to_status_id             ...</td>\n",
       "      <td>-0.476863</td>\n",
       "      <td>-0.101277</td>\n",
       "      <td>2</td>\n",
       "      <td>2020</td>\n",
       "    </tr>\n",
       "    <tr>\n",
       "      <th>2020-02-01 00:02:52+00:00</th>\n",
       "      <td>level_0  in_reply_to_status_id             ...</td>\n",
       "      <td>-0.363490</td>\n",
       "      <td>-0.396045</td>\n",
       "      <td>2</td>\n",
       "      <td>2020</td>\n",
       "    </tr>\n",
       "    <tr>\n",
       "      <th>2020-02-01 00:11:22+00:00</th>\n",
       "      <td>level_0  in_reply_to_status_id             ...</td>\n",
       "      <td>0.595188</td>\n",
       "      <td>-0.433091</td>\n",
       "      <td>2</td>\n",
       "      <td>2020</td>\n",
       "    </tr>\n",
       "    <tr>\n",
       "      <th>2020-02-01 00:17:21+00:00</th>\n",
       "      <td>level_0  in_reply_to_status_id             ...</td>\n",
       "      <td>0.361903</td>\n",
       "      <td>-0.486868</td>\n",
       "      <td>2</td>\n",
       "      <td>2020</td>\n",
       "    </tr>\n",
       "    <tr>\n",
       "      <th>2020-02-01 00:25:37+00:00</th>\n",
       "      <td>level_0  in_reply_to_status_id             ...</td>\n",
       "      <td>-0.021776</td>\n",
       "      <td>-0.715104</td>\n",
       "      <td>2</td>\n",
       "      <td>2020</td>\n",
       "    </tr>\n",
       "    <tr>\n",
       "      <th>...</th>\n",
       "      <td>...</td>\n",
       "      <td>...</td>\n",
       "      <td>...</td>\n",
       "      <td>...</td>\n",
       "      <td>...</td>\n",
       "    </tr>\n",
       "    <tr>\n",
       "      <th>2020-02-29 23:33:50+00:00</th>\n",
       "      <td>level_0  in_reply_to_status_id             ...</td>\n",
       "      <td>-0.061174</td>\n",
       "      <td>0.523909</td>\n",
       "      <td>2</td>\n",
       "      <td>2020</td>\n",
       "    </tr>\n",
       "    <tr>\n",
       "      <th>2020-02-29 23:39:25+00:00</th>\n",
       "      <td>level_0  in_reply_to_status_id             ...</td>\n",
       "      <td>-0.382886</td>\n",
       "      <td>-0.357268</td>\n",
       "      <td>2</td>\n",
       "      <td>2020</td>\n",
       "    </tr>\n",
       "    <tr>\n",
       "      <th>2020-02-29 23:45:08+00:00</th>\n",
       "      <td>level_0  in_reply_to_status_id             ...</td>\n",
       "      <td>0.794742</td>\n",
       "      <td>-0.411270</td>\n",
       "      <td>2</td>\n",
       "      <td>2020</td>\n",
       "    </tr>\n",
       "    <tr>\n",
       "      <th>2020-02-29 23:54:18+00:00</th>\n",
       "      <td>level_0  in_reply_to_status_id             ...</td>\n",
       "      <td>-0.196846</td>\n",
       "      <td>-0.625745</td>\n",
       "      <td>2</td>\n",
       "      <td>2020</td>\n",
       "    </tr>\n",
       "    <tr>\n",
       "      <th>2020-02-29 23:54:21+00:00</th>\n",
       "      <td>level_0  in_reply_to_status_id             ...</td>\n",
       "      <td>-0.906247</td>\n",
       "      <td>-0.441345</td>\n",
       "      <td>2</td>\n",
       "      <td>2020</td>\n",
       "    </tr>\n",
       "  </tbody>\n",
       "</table>\n",
       "<p>23169 rows × 5 columns</p>\n",
       "</div>"
      ],
      "text/plain": [
       "                                                                        conv  \\\n",
       "time                                                                           \n",
       "2020-02-01 00:02:52+00:00     level_0  in_reply_to_status_id             ...   \n",
       "2020-02-01 00:02:52+00:00     level_0  in_reply_to_status_id             ...   \n",
       "2020-02-01 00:11:22+00:00     level_0  in_reply_to_status_id             ...   \n",
       "2020-02-01 00:17:21+00:00     level_0  in_reply_to_status_id             ...   \n",
       "2020-02-01 00:25:37+00:00     level_0  in_reply_to_status_id             ...   \n",
       "...                                                                      ...   \n",
       "2020-02-29 23:33:50+00:00     level_0  in_reply_to_status_id             ...   \n",
       "2020-02-29 23:39:25+00:00     level_0  in_reply_to_status_id             ...   \n",
       "2020-02-29 23:45:08+00:00     level_0  in_reply_to_status_id             ...   \n",
       "2020-02-29 23:54:18+00:00     level_0  in_reply_to_status_id             ...   \n",
       "2020-02-29 23:54:21+00:00     level_0  in_reply_to_status_id             ...   \n",
       "\n",
       "                              delta      mean  month  year  \n",
       "time                                                        \n",
       "2020-02-01 00:02:52+00:00 -0.476863 -0.101277      2  2020  \n",
       "2020-02-01 00:02:52+00:00 -0.363490 -0.396045      2  2020  \n",
       "2020-02-01 00:11:22+00:00  0.595188 -0.433091      2  2020  \n",
       "2020-02-01 00:17:21+00:00  0.361903 -0.486868      2  2020  \n",
       "2020-02-01 00:25:37+00:00 -0.021776 -0.715104      2  2020  \n",
       "...                             ...       ...    ...   ...  \n",
       "2020-02-29 23:33:50+00:00 -0.061174  0.523909      2  2020  \n",
       "2020-02-29 23:39:25+00:00 -0.382886 -0.357268      2  2020  \n",
       "2020-02-29 23:45:08+00:00  0.794742 -0.411270      2  2020  \n",
       "2020-02-29 23:54:18+00:00 -0.196846 -0.625745      2  2020  \n",
       "2020-02-29 23:54:21+00:00 -0.906247 -0.441345      2  2020  \n",
       "\n",
       "[23169 rows x 5 columns]"
      ]
     },
     "execution_count": 154,
     "metadata": {},
     "output_type": "execute_result"
    }
   ],
   "source": []
  },
  {
   "cell_type": "code",
   "execution_count": 126,
   "metadata": {},
   "outputs": [],
   "source": [
    "def getConvsForStr(string,userid,frame,mode):\n",
    "    time = datetime.now()\n",
    "    \n",
    "    lst = []\n",
    "\n",
    "    for i in frame['conv']:\n",
    "        if np.mean(i['text'].apply(lambda x: x.lower()).str.contains(string)) > 0:\n",
    "            lst.append(True)\n",
    "        else:\n",
    "            lst.append(False)\n",
    "    \n",
    "    print(datetime.now()-time)\n",
    "    testframe = frame[lst]\n",
    "    lst = []\n",
    "    if mode == 'A':\n",
    "        for i in testframe['conv']:\n",
    "            lastindex = i.tail(1).index\n",
    "            for index, j in i.iterrows():\n",
    "                if j['user_id'] == userid and ~math.isnan(j['in_reply_to_status_id']):\n",
    "                    lst.append(True)\n",
    "                    break\n",
    "                if index == lastindex:\n",
    "                    lst.append(False)\n",
    "                    break\n",
    "\n",
    "    else:\n",
    "        for i in testframe['conv']:\n",
    "            lst1 = (i['user_id'] == userid).to_list()\n",
    "            lst2 = (i['in_reply_to_status_id'].apply(lambda x: not math.isnan(x)).to_list())\n",
    "            if np.mean([a and b for a, b in zip(lst1, lst2)]) > 0:\n",
    "                lst.append(True)\n",
    "            else:\n",
    "                lst.append(False)\n",
    "    testframe['participated'] = lst\n",
    "    print(datetime.now()-time)\n",
    "    return testframe"
   ]
  },
  {
   "cell_type": "code",
   "execution_count": 155,
   "metadata": {},
   "outputs": [
    {
     "name": "stdout",
     "output_type": "stream",
     "text": [
      "0:01:42.066716\n"
     ]
    },
    {
     "name": "stderr",
     "output_type": "stream",
     "text": [
      "C:\\Users\\david\\anaconda3\\lib\\site-packages\\ipykernel_launcher.py:34: SettingWithCopyWarning: \n",
      "A value is trying to be set on a copy of a slice from a DataFrame.\n",
      "Try using .loc[row_indexer,col_indexer] = value instead\n",
      "\n",
      "See the caveats in the documentation: https://pandas.pydata.org/pandas-docs/stable/user_guide/indexing.html#returning-a-view-versus-a-copy\n"
     ]
    },
    {
     "name": "stdout",
     "output_type": "stream",
     "text": [
      "0:01:50.782707\n",
      "0:01:45.794985\n",
      "0:01:48.074750\n",
      "0:01:47.575012\n",
      "0:02:01.852152\n",
      "0:01:52.649566\n",
      "0:02:04.376812\n",
      "0:01:50.147234\n",
      "0:01:54.827717\n",
      "0:09:39.917131\n"
     ]
    }
   ],
   "source": [
    "# String Userid Frame\n",
    "\n",
    "current = datetime.now()\n",
    "klmconvs = getConvsForStr('@klm',56377143,conversationframe,'B')\n",
    "afconvs = getConvsForStr('@airfrance',106062176,conversationframe,'B')\n",
    "baconvs = getConvsForStr('@british_airways',18332190,conversationframe,'B')\n",
    "ejconvs = getConvsForStr('@easyjet',38676903,conversationframe,'B')\n",
    "lhconvs = getConvsForStr('@lufthansa',124476322,conversationframe,'B')\n",
    "print(datetime.now()-current)"
   ]
  },
  {
   "cell_type": "code",
   "execution_count": 156,
   "metadata": {},
   "outputs": [
    {
     "name": "stderr",
     "output_type": "stream",
     "text": [
      "C:\\Users\\david\\anaconda3\\lib\\site-packages\\ipykernel_launcher.py:1: SettingWithCopyWarning: \n",
      "A value is trying to be set on a copy of a slice from a DataFrame.\n",
      "Try using .loc[row_indexer,col_indexer] = value instead\n",
      "\n",
      "See the caveats in the documentation: https://pandas.pydata.org/pandas-docs/stable/user_guide/indexing.html#returning-a-view-versus-a-copy\n",
      "  \"\"\"Entry point for launching an IPython kernel.\n",
      "C:\\Users\\david\\anaconda3\\lib\\site-packages\\ipykernel_launcher.py:2: SettingWithCopyWarning: \n",
      "A value is trying to be set on a copy of a slice from a DataFrame.\n",
      "Try using .loc[row_indexer,col_indexer] = value instead\n",
      "\n",
      "See the caveats in the documentation: https://pandas.pydata.org/pandas-docs/stable/user_guide/indexing.html#returning-a-view-versus-a-copy\n",
      "  \n",
      "C:\\Users\\david\\anaconda3\\lib\\site-packages\\ipykernel_launcher.py:3: SettingWithCopyWarning: \n",
      "A value is trying to be set on a copy of a slice from a DataFrame.\n",
      "Try using .loc[row_indexer,col_indexer] = value instead\n",
      "\n",
      "See the caveats in the documentation: https://pandas.pydata.org/pandas-docs/stable/user_guide/indexing.html#returning-a-view-versus-a-copy\n",
      "  This is separate from the ipykernel package so we can avoid doing imports until\n",
      "C:\\Users\\david\\anaconda3\\lib\\site-packages\\ipykernel_launcher.py:4: SettingWithCopyWarning: \n",
      "A value is trying to be set on a copy of a slice from a DataFrame.\n",
      "Try using .loc[row_indexer,col_indexer] = value instead\n",
      "\n",
      "See the caveats in the documentation: https://pandas.pydata.org/pandas-docs/stable/user_guide/indexing.html#returning-a-view-versus-a-copy\n",
      "  after removing the cwd from sys.path.\n",
      "C:\\Users\\david\\anaconda3\\lib\\site-packages\\ipykernel_launcher.py:5: SettingWithCopyWarning: \n",
      "A value is trying to be set on a copy of a slice from a DataFrame.\n",
      "Try using .loc[row_indexer,col_indexer] = value instead\n",
      "\n",
      "See the caveats in the documentation: https://pandas.pydata.org/pandas-docs/stable/user_guide/indexing.html#returning-a-view-versus-a-copy\n",
      "  \"\"\"\n"
     ]
    }
   ],
   "source": [
    "klmconvs['airline'] = 'KLM'\n",
    "afconvs['airline'] = 'AirFrance'\n",
    "baconvs['airline'] = 'British Airways'\n",
    "ejconvs['airline'] = 'EasyJet'\n",
    "lhconvs['airline'] = 'Lufthansa'"
   ]
  },
  {
   "cell_type": "code",
   "execution_count": 157,
   "metadata": {},
   "outputs": [],
   "source": [
    "allairlines = pd.concat([klmconvs,ejconvs,afconvs,lhconvs,baconvs])"
   ]
  },
  {
   "cell_type": "code",
   "execution_count": 158,
   "metadata": {},
   "outputs": [],
   "source": [
    "allairlines.to_csv('ConvsByAirlines.csv')"
   ]
  },
  {
   "cell_type": "code",
   "execution_count": 167,
   "metadata": {},
   "outputs": [
    {
     "data": {
      "text/plain": [
       "Text(0.5, 0, '')"
      ]
     },
     "execution_count": 167,
     "metadata": {},
     "output_type": "execute_result"
    },
    {
     "data": {
      "image/png": "[encoded data removed]",
      "text/plain": [
       "<Figure size 720x360 with 1 Axes>"
      ]
     },
     "metadata": {
      "needs_background": "light"
     },
     "output_type": "display_data"
    }
   ],
   "source": [
    "fig, ax = plt.subplots(nrows=1,ncols=1,figsize=(10,5))\n",
    "sns.violinplot(data=allairlines, x='airline',y=\"delta\", hue=\"participated\",\n",
    "               split=True, inner=\"quart\", linewidth=1)\n",
    "ax.set_title('Change in sentiment over the course of a conversation')\n",
    "ax.set_ylabel('Change in sentiment')\n",
    "ax.set_xlabel(None);"
   ]
  },
  {
   "cell_type": "code",
   "execution_count": null,
   "metadata": {},
   "outputs": [],
   "source": []
  }
 ],
 "metadata": {
  "kernelspec": {
   "display_name": "Python 3",
   "language": "python",
   "name": "python3"
  },
  "language_info": {
   "codemirror_mode": {
    "name": "ipython",
    "version": 3
   },
   "file_extension": ".py",
   "mimetype": "text/x-python",
   "name": "python",
   "nbconvert_exporter": "python",
   "pygments_lexer": "ipython3",
   "version": "3.7.6"
  }
 },
 "nbformat": 4,
 "nbformat_minor": 4
}
