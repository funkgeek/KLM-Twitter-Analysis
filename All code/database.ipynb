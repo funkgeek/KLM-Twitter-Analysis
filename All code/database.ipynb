{
 "cells": [
  {
   "cell_type": "code",
   "execution_count": null,
   "metadata": {},
   "outputs": [],
   "source": [
    "import pandas as pd\n",
    "import sqlite3 as sql\n",
    "import os\n",
    "import time\n",
    "\n",
    "conn = sql.connect('Tweets6.db')\n",
    "\n",
    "conn.execute(''' DROP TABLE tweets''')"
   ]
  },
  {
   "cell_type": "code",
   "execution_count": null,
   "metadata": {},
   "outputs": [],
   "source": [
    "conn.execute('''CREATE TABLE tweets\n",
    "               ('index','user_id','id','text','created_at','in_reply_to_status_id','in_reply_to_user_id')''')"
   ]
  },
  {
   "cell_type": "code",
   "execution_count": null,
   "metadata": {},
   "outputs": [],
   "source": [
    "base_dir = '/Users/rong/Desktop/School Q4/DBL/project/Dataframes'\n",
    "for file in os.listdir(base_dir):\n",
    "    start_time = time.time()\n",
    "    dataframe_path = os.path.join(base_dir, file)\n",
    "    df_twitter = pd.read_csv(dataframe_path)[['user_id','id','text','created_at','in_reply_to_status_id','in_reply_to_user_id']]\n",
    "    df_twitter.drop_duplicates(subset=['text']).to_sql('tweets',con = conn,if_exists = 'append')\n",
    "    elapsed = time.time()-start_time\n",
    "    print('Added frame in ' + str(elapsed) + ' seconds')"
   ]
  }
 ],
 "metadata": {
  "kernelspec": {
   "display_name": "Python 3 (ipykernel)",
   "language": "python",
   "name": "python3"
  },
  "language_info": {
   "codemirror_mode": {
    "name": "ipython",
    "version": 3
   },
   "file_extension": ".py",
   "mimetype": "text/x-python",
   "name": "python",
   "nbconvert_exporter": "python",
   "pygments_lexer": "ipython3",
   "version": "3.10.9"
  }
 },
 "nbformat": 4,
 "nbformat_minor": 4
}
