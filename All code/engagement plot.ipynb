{
 "cells": [
  {
   "cell_type": "code",
   "execution_count": 33,
   "metadata": {},
   "outputs": [],
   "source": [
    "import textwrap\n",
    "import pandas as pd\n",
    "import pickle\n",
    "import seaborn as sns"
   ]
  },
  {
   "cell_type": "code",
   "execution_count": 2,
   "metadata": {},
   "outputs": [],
   "source": [
    "with open('conversationframe.pkl','rb') as input:\n",
    "    conversationframe = pickle.load(input)"
   ]
  },
  {
   "cell_type": "code",
   "execution_count": 11,
   "metadata": {},
   "outputs": [],
   "source": [
    "def find_engagement(string_tag, user_id, announcement,conversationlist):\n",
    "    mentioned = 0\n",
    "    participated = 0\n",
    "\n",
    "    temp_m = False\n",
    "    temp_p = False\n",
    "    if announcement == False:\n",
    "        for i in conversationlist:\n",
    "            for index,j in i.iterrows():\n",
    "                if string_tag in j['text'].lower():\n",
    "                    temp_m = True\n",
    "                if j['user_id'] == user_id and pd.notnull(j['in_reply_to_status_id']):\n",
    "                    temp_p = True\n",
    "            if temp_m == True:\n",
    "                mentioned += 1\n",
    "                temp_m = False\n",
    "            if temp_p == True:\n",
    "                participated += 1\n",
    "                temp_p = False\n",
    "    else:\n",
    "        for i in conversationlist:\n",
    "            for j in i:\n",
    "                if string_tag in j['text'].lower():\n",
    "                    temp_m = True\n",
    "                if j['user_id'] == user_id:\n",
    "                    temp_p = True\n",
    "            if temp_m == True:\n",
    "                mentioned += 1\n",
    "                temp_m = False\n",
    "            if temp_p == True:\n",
    "                participated += 1\n",
    "                temp_p = False\n",
    "    return (participated/mentioned)*100, [mentioned, participated]"
   ]
  },
  {
   "cell_type": "code",
   "execution_count": 4,
   "metadata": {},
   "outputs": [],
   "source": [
    "convlist = conversationframe['conv'].to_list()"
   ]
  },
  {
   "cell_type": "code",
   "execution_count": 13,
   "metadata": {},
   "outputs": [],
   "source": [
    "#KLM 56377143\n",
    "#AirFrance 106062176\n",
    "#British_Airways 18332190\n",
    "#AmericanAir 22536055\n",
    "#Lufthansa 124476322\n",
    "#AirBerlin 26223583\n",
    "#AirBerlin assist 2182373406\n",
    "#easyJet 38676903\n",
    "#RyanAir 1542862735\n",
    "#SingaporeAir 253340062\n",
    "#Qantas 218730857\n",
    "#EtihadAirways 45621423\n",
    "\n",
    "\n",
    "KLM = find_engagement('@klm',56377143,False,convlist)\n",
    "AF = find_engagement('@airfrance',106062176,False,convlist)\n",
    "BA = find_engagement('@british_airways',18332190,False,convlist)\n",
    "LH = find_engagement('@lufthansa',124476322,False,convlist)\n",
    "EJ = find_engagement('@easyjet',38676903,False,convlist)"
   ]
  },
  {
   "cell_type": "code",
   "execution_count": 15,
   "metadata": {},
   "outputs": [],
   "source": [
    "airlinelist = [KLM,AF,BA,LH,EJ]\n",
    "part = []\n",
    "nonpart = []\n",
    "\n",
    "\n",
    "for i in airlinelist:\n",
    "    part.append(i[0])\n",
    "    nonpart.append(100-i[0])"
   ]
  },
  {
   "cell_type": "code",
   "execution_count": 17,
   "metadata": {},
   "outputs": [],
   "source": [
    "airlines = pd.DataFrame()"
   ]
  },
  {
   "cell_type": "code",
   "execution_count": 19,
   "metadata": {},
   "outputs": [],
   "source": [
    "airlines['part'] = part\n",
    "airlines['nonpart'] = nonpart\n",
    "airlines['airline'] = ['KLM','AirFrance','British_Airways','Lufthansa','EasyJet']"
   ]
  },
  {
   "cell_type": "code",
   "execution_count": 39,
   "metadata": {},
   "outputs": [
    {
     "data": {
      "text/plain": [
       "Text(0.5, 0, 'Airlines')"
      ]
     },
     "execution_count": 39,
     "metadata": {},
     "output_type": "execute_result"
    },
    {
     "data": {
      "image/png": "[encoded data removed]",
      "text/plain": [
       "<Figure size 432x288 with 1 Axes>"
      ]
     },
     "metadata": {
      "needs_background": "light"
     },
     "output_type": "display_data"
    }
   ],
   "source": [
    "# bar chart 1 -> top bars (group of 'smoker=No')\n",
    "bar1 = sns.barplot(x=\"airline\",  y=100, data=airlines, color='darkblue')\n",
    "\n",
    "# bar chart 2 -> bottom bars (group of 'smoker=Yes')\n",
    "bar2 = sns.barplot(x=\"airline\", y=\"part\", data=airlines, color='lightblue')\n",
    "\n",
    "bar2.set_ylim(0,100)\n",
    "bar2.set_title(textwrap.fill('Percentage of conversations participated by KLM and competitors',30),fontsize=16)\n",
    "bar2.set_ylabel('Percentage of participation',fontsize=12)\n",
    "bar2.set_xlabel('Airlines',fontsize=12)"
   ]
  },
  {
   "cell_type": "code",
   "execution_count": 25,
   "metadata": {},
   "outputs": [
    {
     "data": {
      "text/html": [
       "<div>\n",
       "<style scoped>\n",
       "    .dataframe tbody tr th:only-of-type {\n",
       "        vertical-align: middle;\n",
       "    }\n",
       "\n",
       "    .dataframe tbody tr th {\n",
       "        vertical-align: top;\n",
       "    }\n",
       "\n",
       "    .dataframe thead th {\n",
       "        text-align: right;\n",
       "    }\n",
       "</style>\n",
       "<table border=\"1\" class=\"dataframe\">\n",
       "  <thead>\n",
       "    <tr style=\"text-align: right;\">\n",
       "      <th></th>\n",
       "      <th>part</th>\n",
       "      <th>nonpart</th>\n",
       "      <th>airline</th>\n",
       "    </tr>\n",
       "  </thead>\n",
       "  <tbody>\n",
       "    <tr>\n",
       "      <th>0</th>\n",
       "      <td>64.181767</td>\n",
       "      <td>35.818233</td>\n",
       "      <td>KLM</td>\n",
       "    </tr>\n",
       "    <tr>\n",
       "      <th>1</th>\n",
       "      <td>39.092172</td>\n",
       "      <td>60.907828</td>\n",
       "      <td>AirFrance</td>\n",
       "    </tr>\n",
       "    <tr>\n",
       "      <th>2</th>\n",
       "      <td>43.932567</td>\n",
       "      <td>56.067433</td>\n",
       "      <td>British_Airways</td>\n",
       "    </tr>\n",
       "    <tr>\n",
       "      <th>3</th>\n",
       "      <td>57.096425</td>\n",
       "      <td>42.903575</td>\n",
       "      <td>Lufthansa</td>\n",
       "    </tr>\n",
       "    <tr>\n",
       "      <th>4</th>\n",
       "      <td>55.191100</td>\n",
       "      <td>44.808900</td>\n",
       "      <td>EasyJet</td>\n",
       "    </tr>\n",
       "  </tbody>\n",
       "</table>\n",
       "</div>"
      ],
      "text/plain": [
       "        part    nonpart          airline\n",
       "0  64.181767  35.818233              KLM\n",
       "1  39.092172  60.907828        AirFrance\n",
       "2  43.932567  56.067433  British_Airways\n",
       "3  57.096425  42.903575        Lufthansa\n",
       "4  55.191100  44.808900          EasyJet"
      ]
     },
     "execution_count": 25,
     "metadata": {},
     "output_type": "execute_result"
    }
   ],
   "source": [
    "airlines"
   ]
  }
 ],
 "metadata": {
  "kernelspec": {
   "display_name": "Python 3",
   "language": "python",
   "name": "python3"
  },
  "language_info": {
   "codemirror_mode": {
    "name": "ipython",
    "version": 3
   },
   "file_extension": ".py",
   "mimetype": "text/x-python",
   "name": "python",
   "nbconvert_exporter": "python",
   "pygments_lexer": "ipython3",
   "version": "3.7.6"
  }
 },
 "nbformat": 4,
 "nbformat_minor": 4
}
